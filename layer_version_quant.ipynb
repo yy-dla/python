{
 "cells": [
  {
   "cell_type": "code",
   "execution_count": 1,
   "metadata": {
    "collapsed": true
   },
   "outputs": [],
   "source": [
    "import tensorflow as tf\n",
    "import numpy as np\n",
    "from PIL import Image\n",
    "import matplotlib.pyplot as plt\n",
    "\n",
    "from utils import *"
   ]
  },
  {
   "cell_type": "code",
   "execution_count": 2,
   "outputs": [],
   "source": [
    "img = Image.open('test.jpg')\n",
    "array2 = np.asarray(img)"
   ],
   "metadata": {
    "collapsed": false,
    "pycharm": {
     "name": "#%%\n"
    }
   }
  },
  {
   "cell_type": "code",
   "execution_count": 12,
   "outputs": [],
   "source": [
    "tflite_model = tf.lite.Interpreter(model_path='./model/newer/MobileNet.tflite')\n",
    "tflite_model.allocate_tensors()"
   ],
   "metadata": {
    "collapsed": false,
    "pycharm": {
     "name": "#%%\n"
    }
   }
  },
  {
   "cell_type": "code",
   "execution_count": 35,
   "outputs": [
    {
     "name": "stdout",
     "output_type": "stream",
     "text": [
      "0x7e20edc0\n",
      "0x480bb26e\n",
      "0x6c3a3aaa\n",
      "0x660c1cfa\n",
      "0x46a02e36\n",
      "0x5f2b095a\n",
      "0x4868c69e\n",
      "0x608293e5\n",
      "0x4c0ea9d2\n",
      "0x41af7024\n",
      "0x5b41ae01\n",
      "0x4d7d0b02\n",
      "0x76c621a0\n",
      "0x45cd3b42\n",
      "0x7b19c6e0\n",
      "0x7e809dcb\n",
      "0x7285542a\n",
      "0x4933d6ab\n",
      "0x494f319f\n",
      "0x7b013362\n",
      "0x6ccc3559\n",
      "0x5743411c\n",
      "0x465580fc\n",
      "0x532e4ee2\n",
      "0x71521e2a\n",
      "0x52f03b89\n",
      "0x5e4e0167\n",
      "0x77c038d4\n",
      "0x51d77a67\n",
      "0x73a21a0b\n",
      "0x51f8ff88\n",
      "0x4bb8d718\n"
     ]
    }
   ],
   "source": [
    "Sx = tflite_model.get_tensor_details()[31]['quantization_parameters']['scales']           .astype(float)\n",
    "Sw_scale_list = tflite_model.get_tensor_details()[32]['quantization_parameters']['scales'].astype(float)\n",
    "Sa = tflite_model.get_tensor_details()[33]['quantization_parameters']['scales']           .astype(float)\n",
    "\n",
    "fraction_list = []\n",
    "shift_list = []\n",
    "M_list = []\n",
    "\n",
    "for i in Sw_scale_list:\n",
    "    M_list.append((Sx * i) / Sa)\n",
    "\n",
    "for i in Sw_scale_list:\n",
    "    fraction, shift = InterFrExp((Sx * i) / Sa)\n",
    "    fraction_list.append(fraction)\n",
    "    shift_list.append(shift)\n",
    "\n",
    "for i in fraction_list:\n",
    "    print(hex(i))"
   ],
   "metadata": {
    "collapsed": false,
    "pycharm": {
     "name": "#%%\n"
    }
   }
  },
  {
   "cell_type": "code",
   "execution_count": 36,
   "outputs": [],
   "source": [
    "fraction_list = np.asarray(fraction_list)\n",
    "fraction_list += 1"
   ],
   "metadata": {
    "collapsed": false,
    "pycharm": {
     "name": "#%%\n"
    }
   }
  },
  {
   "cell_type": "code",
   "execution_count": 6,
   "outputs": [],
   "source": [
    "w = np.asarray(tflite_model.get_tensor(32))\n",
    "b = np.asarray(tflite_model.get_tensor(29))"
   ],
   "metadata": {
    "collapsed": false,
    "pycharm": {
     "name": "#%%\n"
    }
   }
  },
  {
   "cell_type": "code",
   "execution_count": 4,
   "outputs": [
    {
     "name": "stdout",
     "output_type": "stream",
     "text": [
      "\n"
     ]
    }
   ],
   "source": [
    "o = [[[0 for i in range(112)] for j in range(112)] for k in range(32)]\n",
    "o = np.asarray(o)\n",
    "o.astype(np.int64)\n",
    "\n",
    "of = [[[0 for i in range(112)] for j in range(112)] for k in range(32)]\n",
    "of = np.asarray(of)\n",
    "of.astype(int)\n",
    "\n",
    "print()"
   ],
   "metadata": {
    "collapsed": false,
    "pycharm": {
     "name": "#%%\n"
    }
   }
  },
  {
   "cell_type": "code",
   "execution_count": 38,
   "outputs": [],
   "source": [
    "for n in range(32):\n",
    "    for f_x in range(0, 224, 2):\n",
    "        for f_y in range(0, 224, 2):\n",
    "            local_sum = 0\n",
    "            for c in range(3):\n",
    "                for k_x in range(3):\n",
    "                    for k_y in range(3):\n",
    "                        if (f_x + k_x) != -1 and (f_y + k_y) != -1 and (f_x + k_x) < 224 and (f_y + k_y) < 224:\n",
    "                            local_sum += w[n][k_x][k_y][c] * array2[f_x + k_x][f_y + k_y][c]\n",
    "                        else:\n",
    "                            local_sum += 0\n",
    "            local_sum += b[n]\n",
    "            local_sum = local_sum if local_sum > 0 else 0\n",
    "\n",
    "            o[n][f_x >> 1][f_y >> 1] = (np.int64(local_sum) * fraction_list[n] >> 31) >> (abs(shift_list[n]))\n",
    "            of[n][f_x >> 1][f_y >> 1] = int(local_sum * M_list[n])"
   ],
   "metadata": {
    "collapsed": false,
    "pycharm": {
     "name": "#%%\n"
    }
   }
  },
  {
   "cell_type": "code",
   "execution_count": 40,
   "outputs": [
    {
     "name": "stdout",
     "output_type": "stream",
     "text": [
      "[31  0 21  0  1  0  0 26 12  0  0 12  0 13  0 10 19 10  4  3  3  6  0  0\n",
      " 15  0  0  1  0 17 12 10]\n"
     ]
    }
   ],
   "source": [
    "print(o[0:32,0,0])"
   ],
   "metadata": {
    "collapsed": false,
    "pycharm": {
     "name": "#%%\n"
    }
   }
  },
  {
   "cell_type": "code",
   "execution_count": 34,
   "outputs": [
    {
     "name": "stdout",
     "output_type": "stream",
     "text": [
      "[39  0 18  0  0  0  0 29 22  0  0 21  0 24  0 18 29 19  0  0 13  0  0  0\n",
      " 27  0  0 12  0 24  0 22]\n"
     ]
    }
   ],
   "source": [
    "print(of[0:32,0,1])"
   ],
   "metadata": {
    "collapsed": false,
    "pycharm": {
     "name": "#%%\n"
    }
   }
  },
  {
   "cell_type": "code",
   "execution_count": 3,
   "outputs": [],
   "source": [
    "from utils import *\n",
    "o3 = model_invoke(array2)"
   ],
   "metadata": {
    "collapsed": false,
    "pycharm": {
     "name": "#%%\n"
    }
   }
  },
  {
   "cell_type": "code",
   "execution_count": 25,
   "outputs": [
    {
     "name": "stdout",
     "output_type": "stream",
     "text": [
      "[ 0  0  0  0 13  0  0  0 22  0 16  0  3  6  0 15  1 22  0  7 18  0  0 18\n",
      "  0 13 13 15  0  0  0  0]\n"
     ]
    }
   ],
   "source": [
    "print(o3[0:32, 1, 0])"
   ],
   "metadata": {
    "collapsed": false,
    "pycharm": {
     "name": "#%%\n"
    }
   }
  },
  {
   "cell_type": "code",
   "execution_count": null,
   "outputs": [],
   "source": [
    "pool_list = []\n",
    "\n",
    "for c in range(1024):\n",
    "    local_sum = 0\n",
    "    for x in range(7):\n",
    "        for y in range(7):\n",
    "            local_sum += o3[c][x][y]\n",
    "    local_sum = np.int64(local_sum) * 1530651995 >> 34\n",
    "    pool_list.append(local_sum)"
   ],
   "metadata": {
    "collapsed": false,
    "pycharm": {
     "name": "#%%\n"
    }
   }
  },
  {
   "cell_type": "code",
   "execution_count": 13,
   "outputs": [],
   "source": [
    "w, b, M, shift = get_param(tflite_model, 88, 30)"
   ],
   "metadata": {
    "collapsed": false,
    "pycharm": {
     "name": "#%%\n"
    }
   }
  },
  {
   "cell_type": "code",
   "execution_count": 16,
   "outputs": [],
   "source": [
    "result = []\n",
    "for i in range(43):\n",
    "    local_sum = 0\n",
    "    for j in range(1024):\n",
    "        local_sum += w[i][j] * pool_list[j]\n",
    "    local_sum += b[i]\n",
    "    local_sum = (np.int64(local_sum) * M[0] >> 31) >> abs(shift[0])\n",
    "    result.append(local_sum)"
   ],
   "metadata": {
    "collapsed": false,
    "pycharm": {
     "name": "#%%\n"
    }
   }
  },
  {
   "cell_type": "code",
   "execution_count": 21,
   "outputs": [
    {
     "name": "stdout",
     "output_type": "stream",
     "text": [
      "[ 73 106 158  94 116 110  51  68  98  79  58  54  47  47  92  51  65  34\n",
      "  58  57  35  61   0  55  38  51  50  54  40  51  46  47   9  76  68  53\n",
      "  65  58  93  48  82  49  23]\n"
     ]
    }
   ],
   "source": [
    "print(np.asarray(result)+124)"
   ],
   "metadata": {
    "collapsed": false,
    "pycharm": {
     "name": "#%%\n"
    }
   }
  }
 ],
 "metadata": {
  "kernelspec": {
   "display_name": "Python 3",
   "language": "python",
   "name": "python3"
  },
  "language_info": {
   "codemirror_mode": {
    "name": "ipython",
    "version": 2
   },
   "file_extension": ".py",
   "mimetype": "text/x-python",
   "name": "python",
   "nbconvert_exporter": "python",
   "pygments_lexer": "ipython2",
   "version": "2.7.6"
  }
 },
 "nbformat": 4,
 "nbformat_minor": 0
}