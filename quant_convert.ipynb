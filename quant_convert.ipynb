{
 "cells": [
  {
   "cell_type": "code",
   "execution_count": 1,
   "metadata": {
    "collapsed": true
   },
   "outputs": [],
   "source": [
    "import matplotlib.pyplot as plt\n",
    "import tensorflow as tf\n",
    "# import keras\n",
    "from tensorflow import keras\n",
    "import numpy as np\n",
    "import tensorflow_model_optimization as tfmot\n",
    "from PIL import Image\n",
    "import time\n",
    "from utils import *\n",
    "import matplotlib.pyplot as plt\n",
    "import math\n"
   ]
  },
  {
   "cell_type": "code",
   "execution_count": 22,
   "metadata": {
    "pycharm": {
     "name": "#%%\n"
    }
   },
   "outputs": [],
   "source": [
    "tflite_model = tf.lite.Interpreter(model_path='./model/newer/MobileNet.tflite')\n",
    "tflite_model.allocate_tensors()"
   ]
  },
  {
   "cell_type": "code",
   "execution_count": 16,
   "metadata": {
    "pycharm": {
     "name": "#%%\n"
    }
   },
   "outputs": [
    {
     "name": "stdout",
     "output_type": "stream",
     "text": [
      "None\n"
     ]
    }
   ],
   "source": [
    "# tflite_model.get_tensor()\n",
    "# tflite_model.get_tensor_details()[32]\n",
    "# print(tflite_model.tensor(32))\n",
    "print(tflite_model.invoke())"
   ]
  },
  {
   "cell_type": "markdown",
   "metadata": {
    "pycharm": {
     "name": "#%% md\n"
    }
   },
   "source": [
    "```\n",
    "32 29\n",
    "\n",
    "34, 28\n",
    "36, 17\n",
    "38, 9\n",
    "40, 8\n",
    "42, 7\n",
    "44, 6\n",
    "46, 5\n",
    "48, 4\n",
    "50, 3\n",
    "52, 27\n",
    "54, 26\n",
    "56, 25\n",
    "58, 24\n",
    "60, 23\n",
    "62, 22\n",
    "64, 21\n",
    "66, 20\n",
    "68, 19\n",
    "70, 18\n",
    "72, 16\n",
    "74, 15\n",
    "76, 14\n",
    "78, 13\n",
    "80, 12\n",
    "82, 11\n",
    "84, 10\n",
    "\n",
    "\n",
    "88 30\n",
    "```"
   ]
  },
  {
   "cell_type": "code",
   "execution_count": 3,
   "metadata": {
    "pycharm": {
     "name": "#%%\n"
    }
   },
   "outputs": [
    {
     "name": "stdout",
     "output_type": "stream",
     "text": [
      "(32, 3, 3, 3)\n",
      "(32,)\n",
      "(1, 3, 3, 32)\n",
      "(32,)\n",
      "(64, 1, 1, 32)\n",
      "(64,)\n",
      "(1, 3, 3, 64)\n",
      "(64,)\n",
      "(128, 1, 1, 64)\n",
      "(128,)\n",
      "(1, 3, 3, 128)\n",
      "(128,)\n",
      "(128, 1, 1, 128)\n",
      "(128,)\n",
      "(1, 3, 3, 128)\n",
      "(128,)\n",
      "(256, 1, 1, 128)\n",
      "(256,)\n",
      "(1, 3, 3, 256)\n",
      "(256,)\n",
      "(256, 1, 1, 256)\n",
      "(256,)\n",
      "(1, 3, 3, 256)\n",
      "(256,)\n",
      "(512, 1, 1, 256)\n",
      "(512,)\n",
      "(1, 3, 3, 512)\n",
      "(512,)\n",
      "(512, 1, 1, 512)\n",
      "(512,)\n",
      "(1, 3, 3, 512)\n",
      "(512,)\n",
      "(512, 1, 1, 512)\n",
      "(512,)\n",
      "(1, 3, 3, 512)\n",
      "(512,)\n",
      "(512, 1, 1, 512)\n",
      "(512,)\n",
      "(1, 3, 3, 512)\n",
      "(512,)\n",
      "(512, 1, 1, 512)\n",
      "(512,)\n",
      "(1, 3, 3, 512)\n",
      "(512,)\n",
      "(512, 1, 1, 512)\n",
      "(512,)\n",
      "(1, 3, 3, 512)\n",
      "(512,)\n",
      "(1024, 1, 1, 512)\n",
      "(1024,)\n",
      "(1, 3, 3, 1024)\n",
      "(1024,)\n",
      "(1024, 1, 1, 1024)\n",
      "(1024,)\n",
      "(43, 1024)\n",
      "(43,)\n"
     ]
    }
   ],
   "source": [
    "layer_list = [\n",
    "    32, 29, 34, 28, 36, 17, 38, 9, 40, 8, 42, 7, 44, 6, 46, 5, 48, 4, 50, 3, 52, 27, 54, 26, 56, 25, 58, 24, 60, 23, 62, 22, 64, 21, 66, 20, 68, 19, 70, 18, 72, 16, 74, 15, 76, 14, 78, 13, 80, 12, 82, 11, 84, 10, 88, 30\n",
    "]\n",
    "\n",
    "for i in layer_list:\n",
    "    print(tflite_model.get_tensor(i).shape)"
   ]
  },
  {
   "cell_type": "markdown",
   "metadata": {
    "pycharm": {
     "name": "#%% md\n"
    }
   },
   "source": [
    "For conv2d:"
   ]
  },
  {
   "cell_type": "code",
   "execution_count": 5,
   "metadata": {
    "pycharm": {
     "name": "#%%\n"
    }
   },
   "outputs": [
    {
     "name": "stdout",
     "output_type": "stream",
     "text": [
      "-17 -29 -42 15 69 -60 73 15 -77 56 -3 -19 -8 27 -105 24 -34 -115 46 70 -60 -51 -12 -127 -26 26 -124 \n",
      "94 43 28 24 1 14 80 52 0 127 -5 81 124 -57 -26 -44 -50 98 25 117 -19 110 24 -12 64 64 -21 \n",
      "99 52 23 25 -30 -2 23 -34 -38 118 76 -77 36 17 -48 18 57 25 127 -64 -92 19 -30 -94 27 -43 -39 \n",
      "-46 80 118 17 121 28 -78 21 81 -4 18 127 -76 35 37 12 -35 7 9 53 69 16 24 58 -45 12 49 \n",
      "72 -89 55 78 -108 -28 -29 -1 -30 71 4 32 127 -71 22 95 -102 86 2 -61 55 3 -79 55 124 -88 81 \n",
      "-6 11 104 -65 21 123 -28 -16 33 69 62 73 -34 -25 109 -21 48 127 20 -18 75 18 -20 108 -13 72 39 \n",
      "-43 73 58 31 22 101 13 63 49 18 56 106 -8 27 127 9 1 94 -72 -30 84 -73 57 109 -16 48 40 \n",
      "96 -120 84 -45 -40 -24 56 -100 -38 19 -23 -49 22 -14 27 72 -127 68 -1 -28 -32 69 -107 61 76 -126 37 \n",
      "-89 23 36 -31 26 -37 -66 -9 -58 -127 -62 -27 -81 -62 -34 -10 -87 -121 21 -74 -23 3 -32 -75 -27 73 -38 \n",
      "-88 108 -38 -73 -10 42 19 -9 42 -58 82 125 31 -68 37 -117 -19 127 -68 119 21 -50 101 93 24 -28 0 \n",
      "127 61 41 72 64 42 40 -19 53 90 51 -54 58 40 -34 40 -52 -30 60 62 -40 70 36 13 14 40 14 \n",
      "-110 9 -114 -90 2 -49 52 27 4 -42 75 -126 -73 107 -5 -75 69 -104 -20 123 -7 -1 35 -119 -73 127 -83 \n",
      "-12 87 -45 61 43 -13 50 127 32 72 50 48 -24 119 113 -10 89 -13 17 117 18 44 10 33 -40 87 90 \n",
      "35 -30 41 29 -91 -37 -28 -49 35 -42 -42 -2 -19 -82 54 -30 -106 28 42 -18 2 -25 -58 -35 16 -127 -3 \n",
      "-39 8 -5 -42 -34 -14 -62 -30 9 65 22 45 -2 1 -22 25 98 -2 83 48 -16 103 127 50 88 76 78 \n",
      "-98 -7 51 2 -9 24 -32 -67 -61 -127 16 -60 -102 -24 3 -43 -4 5 -104 -29 38 -3 -62 -69 -46 -70 -21 \n",
      "84 -97 60 -28 -123 -51 51 -102 -14 20 -120 -44 18 -57 67 16 -59 -3 95 -124 -1 120 -127 -83 10 -103 -56 \n",
      "-44 -89 9 -42 -116 0 -49 -75 -43 -114 -127 -97 18 -3 22 1 -76 -11 -56 -98 -25 -104 -93 57 22 -62 70 \n",
      "-8 82 34 -5 79 -50 -47 30 -77 25 127 13 31 88 37 9 61 -36 45 51 -61 57 58 -78 9 47 -41 \n",
      "120 -11 -27 127 43 -31 27 -12 -51 54 72 25 46 48 -39 72 40 -10 94 11 32 -18 22 -53 -28 30 -74 \n",
      "-104 -35 33 -127 -52 33 -29 -77 52 -22 28 4 -83 59 22 -98 -57 106 -110 -70 58 -43 -44 119 -58 -74 36 \n",
      "95 102 6 44 -17 55 -10 -22 38 127 -11 75 16 40 36 32 -50 -13 16 31 41 69 72 30 -37 -41 -3 \n",
      "-57 -33 25 -22 45 22 -28 -29 -32 49 -21 54 14 -2 20 3 28 94 -32 82 62 59 -2 76 -31 84 127 \n",
      "-27 48 -53 -24 -5 72 41 100 38 38 86 52 -37 25 127 0 59 53 30 62 2 -35 90 -21 -58 45 114 \n",
      "-59 -37 -96 -89 26 -55 42 -58 -95 -101 -79 -57 -99 -127 -48 -60 -75 -101 -9 22 43 -29 -22 -10 14 -117 -90 \n",
      "48 36 33 -22 103 83 97 -9 127 -11 -60 14 70 52 56 35 -34 85 -67 15 -31 -27 -37 -70 -64 -9 -1 \n",
      "-73 90 11 48 127 -54 -18 78 57 23 82 28 30 121 -4 16 123 -13 -55 33 32 21 58 8 2 82 -12 \n",
      "-33 31 10 -113 18 87 -121 -17 53 4 -80 49 -61 -38 35 -104 -59 -10 -39 -62 -13 -127 -69 -36 5 7 73 \n",
      "-38 56 -19 40 35 73 16 17 11 6 107 72 64 127 45 -35 95 23 -15 102 -5 -27 102 68 5 18 16 \n",
      "-56 -69 -64 15 -127 -40 61 -47 -36 -6 -25 -4 40 -103 -3 23 -25 7 5 -92 -2 -26 -33 -31 88 -114 -29 \n",
      "99 -11 -69 50 16 -63 57 35 11 92 42 -36 25 5 -87 127 42 12 36 11 15 37 22 -42 103 -47 -82 \n",
      "-62 -10 -79 -27 -46 -25 -127 -2 22 -6 -43 30 -33 11 -75 -122 -106 -60 20 -43 34 -42 -5 -6 -84 -47 -44 \n"
     ]
    }
   ],
   "source": [
    "layer = tflite_model.get_tensor(32)\n",
    "\n",
    "for i in range(len(layer)): # channel\n",
    "    for j in range(3):\n",
    "        for k in range(3):\n",
    "            for l in range(3):\n",
    "                print(layer[i][j][k][l], end=' ')\n",
    "                # pass\n",
    "    print()\n",
    "\n",
    "layer = tflite_model.get_tensor(29)\n",
    "\n",
    "# for i in layer:\n",
    "#     print(dec2INT32InHex(i))"
   ]
  },
  {
   "cell_type": "markdown",
   "metadata": {
    "pycharm": {
     "name": "#%% md\n"
    }
   },
   "source": [
    "For DW conv2d:"
   ]
  },
  {
   "cell_type": "code",
   "execution_count": 24,
   "metadata": {
    "pycharm": {
     "name": "#%%\n"
    }
   },
   "outputs": [
    {
     "name": "stdout",
     "output_type": "stream",
     "text": [
      "\n",
      "34, -11, -42, 45, -7, -29, 15, -21, -14, \n",
      "37, 5, -34, -18, 17, -26, 1, -16, -36, \n",
      "-5, -10, -31, 1, 3, -46, 20, -19, -8, \n",
      "-8, -35, -13, -1, -44, -48, 9, 7, -46, \n",
      "-25, -28, -11, -26, 39, 12, 13, 74, 19, \n",
      "2, -12, -27, 9, -10, 24, 84, 56, -30, \n",
      "-5, -30, 2, 64, 54, 15, 40, 24, -20, \n",
      "-35, -45, -17, -49, -39, 12, -41, 10, 21, \n",
      "11, 18, 52, 28, -35, -4, -30, -35, -17, \n",
      "-34, 7, -46, -3, -26, -14, 12, -1, 7, \n",
      "-34, 24, 57, -16, 16, 49, -41, -13, 7, \n",
      "18, -9, 22, 82, 19, 27, 13, 10, -1, \n",
      "-19, 20, 42, -55, 8, 17, -8, -11, -20, \n",
      "-44, -47, -28, -33, -7, 14, -34, 15, -19, \n",
      "-19, -5, 8, -59, -34, 32, -29, 6, 34, \n",
      "22, -18, 18, -15, 18, 40, 1, 22, 4, \n",
      "35, -15, -20, 64, 127, 13, 9, 10, -8, \n",
      "-30, -10, 47, -24, 45, 10, -27, -7, 42, \n",
      "8, -11, -11, 72, 17, 19, 51, 37, -3, \n",
      "-11, 22, 37, -29, 9, -29, -43, -19, -18, \n",
      "-16, 40, 21, 31, 15, 0, 53, 33, 13, \n",
      "53, 12, 16, 43, -8, -45, 18, -40, -21, \n",
      "47, 22, -4, -20, 26, -35, -48, -26, -3, \n",
      "1, 6, 28, -41, -15, 54, -21, 34, 17, \n",
      "-13, -23, -12, -8, -36, 13, 13, 58, 47, \n",
      "42, 53, 21, -32, 25, -2, -36, -2, -18, \n",
      "-31, -55, -7, -6, 8, -37, -15, 28, 52, \n",
      "-47, -55, 22, -29, 22, -7, 15, -10, -32, \n",
      "-1, -7, -25, -24, 27, 12, 19, 17, 72, \n",
      "-45, -68, -29, -30, -30, 39, 26, 15, -1, \n",
      "-26, -19, 0, 22, 90, 23, -19, 36, -19, \n",
      "-6, -12, -56, 44, -11, -42, 43, 11, -15, "
     ]
    }
   ],
   "source": [
    "layer_dw = tflite_model.get_tensor(34)\n",
    "\n",
    "for i in range(layer_dw.shape[3]):\n",
    "    print('')\n",
    "    for j in range(3):\n",
    "        for k in range(3):\n",
    "            print(layer_dw[0][j][k][i], end=\", \")"
   ]
  },
  {
   "cell_type": "markdown",
   "metadata": {
    "pycharm": {
     "name": "#%% md\n"
    }
   },
   "source": [
    "For point conv2d:"
   ]
  },
  {
   "cell_type": "code",
   "execution_count": 21,
   "metadata": {
    "pycharm": {
     "name": "#%%\n"
    }
   },
   "outputs": [
    {
     "ename": "SyntaxError",
     "evalue": "unexpected EOF while parsing (<ipython-input-21-d2400df71290>, line 6)",
     "output_type": "error",
     "traceback": [
      "\u001B[1;36m  File \u001B[1;32m\"<ipython-input-21-d2400df71290>\"\u001B[1;36m, line \u001B[1;32m6\u001B[0m\n\u001B[1;33m    \u001B[0m\n\u001B[1;37m    ^\u001B[0m\n\u001B[1;31mSyntaxError\u001B[0m\u001B[1;31m:\u001B[0m unexpected EOF while parsing\n"
     ]
    }
   ],
   "source": [
    "layer_p = tflite_model.get_tensor(36)\n",
    "\n",
    "for i in range(layer_p.shape[0]):\n",
    "    for j in range(layer_p.shape[3]):\n",
    "        # print(layer_p[i][0][0][j])"
   ]
  },
  {
   "cell_type": "code",
   "execution_count": 7,
   "metadata": {
    "pycharm": {
     "name": "#%%\n"
    }
   },
   "outputs": [
    {
     "data": {
      "text/plain": [
       "'00'"
      ]
     },
     "execution_count": 7,
     "metadata": {},
     "output_type": "execute_result"
    }
   ],
   "source": [
    "from utils import *\n",
    "dec2INT8InHex(-0)\n",
    "\n",
    "tflite_model.invoke()"
   ]
  },
  {
   "cell_type": "code",
   "execution_count": 2,
   "metadata": {
    "pycharm": {
     "name": "#%%\n"
    }
   },
   "outputs": [],
   "source": [
    "\n",
    "test_image = np.expand_dims(Image.open('test.jpg'), axis=0).astype(np.float32)"
   ]
  },
  {
   "cell_type": "code",
   "execution_count": 10,
   "metadata": {
    "pycharm": {
     "name": "#%%\n"
    }
   },
   "outputs": [
    {
     "name": "stdout",
     "output_type": "stream",
     "text": [
      "[[[[126 126 126 ... 126 126 126]\n",
      "   [126 126 126 ... 126 126 126]\n",
      "   [126 126 126 ... 126 126 126]\n",
      "   ...\n",
      "   [ -1  -1  -1 ...  -1  13   1]\n",
      "   [  3   6   2 ...  -1  -1  -1]\n",
      "   [ -1  -1  -1 ...   7  -1  -1]]\n",
      "\n",
      "  [[ -1  -1  -1 ...  -1  -1  16]\n",
      "   [ -1  -1  -1 ...  -1  -1  -1]\n",
      "   [ -1   0  -1 ...  -1  -1  -1]\n",
      "   ...\n",
      "   [ -1   2  -1 ...  -1  -1  -1]\n",
      "   [ -1  -1  -1 ...   3  -1  -1]\n",
      "   [ -1  -1  -1 ...   4  -1  -1]]\n",
      "\n",
      "  [[ -1  -1  -1 ...  -1  -1  -1]\n",
      "   [  2  -1   1 ...  -1  -1  -1]\n",
      "   [ 19  -1  -1 ...  -1  34   4]\n",
      "   ...\n",
      "   [ -1  -1  -1 ...  -1  -1  34]\n",
      "   [  2  45  64 ...  -1  -1  90]\n",
      "   [  1  21  23 ...  48  -1  -1]]\n",
      "\n",
      "  ...\n",
      "\n",
      "  [[ -1  -1   8 ...  19  -1  -1]\n",
      "   [ -1   7  -1 ...  -1   5  -1]\n",
      "   [ -1 104  20 ...  -1  -1  -1]\n",
      "   ...\n",
      "   [ 35  -1  15 ...  -1  -1   0]\n",
      "   [  6  36  15 ...   2  12  -1]\n",
      "   [ -1   2  -1 ...  -1  17  -1]]\n",
      "\n",
      "  [[ -1   0  18 ...   1  -1  -1]\n",
      "   [ -1  -1  -1 ...  -1  -1  -1]\n",
      "   [ -1  -1  12 ...  -1  16  33]\n",
      "   ...\n",
      "   [ 13  -1  -1 ...  -1  23  -1]\n",
      "   [ 47   6  -1 ...  -1  10  -1]\n",
      "   [ 44  -1  -1 ...  -1  10 100]]\n",
      "\n",
      "  [[ 19  -1   9 ...  24  -1  -1]\n",
      "   [ -1  -1  -1 ...  -1  -1  -1]\n",
      "   [ -1  35  -1 ...  -1  -1  -1]\n",
      "   ...\n",
      "   [  6   6   2 ...  -1  -1   1]\n",
      "   [  6  42   1 ...  -1  12  -1]\n",
      "   [ -1   8  18 ...  12   6  -1]]]]\n"
     ]
    }
   ],
   "source": [
    "input  = tflite_model.get_input_details()[0]['index']\n",
    "output = tflite_model.get_tensor_details()[33]['index']\n",
    "\n",
    "tflite_model.set_tensor(input, test_image)\n",
    "\n",
    "tflite_model.invoke()\n",
    "\n",
    "pred = tflite_model.get_tensor(output)\n",
    "\n",
    "print(pred + 126)"
   ]
  },
  {
   "cell_type": "code",
   "execution_count": 8,
   "metadata": {
    "pycharm": {
     "name": "#%%\n"
    }
   },
   "outputs": [],
   "source": [
    "with open('model/newer/MobileNet.tflite', 'rb') as f:\n",
    "    model_buffer = f.read()\n",
    "\n",
    "model_buffer = buffer_change_output_tensor_to(model_buffer, 86)\n",
    "\n",
    "inter = tf.lite.Interpreter(model_content=model_buffer)\n",
    "inter.allocate_tensors()\n",
    "\n",
    "input_index = inter.get_input_details()[0]['index']\n",
    "output_index = inter.get_output_details()[0]['index']\n",
    "\n",
    "inter.set_tensor(input_index, test_image)\n",
    "inter.invoke()\n",
    "\n",
    "pred = inter.get_tensor(output_index)"
   ]
  },
  {
   "cell_type": "code",
   "execution_count": 9,
   "metadata": {
    "pycharm": {
     "name": "#%%\n"
    }
   },
   "outputs": [
    {
     "ename": "TypeError",
     "evalue": "Invalid shape () for image data",
     "output_type": "error",
     "traceback": [
      "\u001B[1;31m---------------------------------------------------------------------------\u001B[0m",
      "\u001B[1;31mTypeError\u001B[0m                                 Traceback (most recent call last)",
      "\u001B[1;32m<ipython-input-9-b10aad393379>\u001B[0m in \u001B[0;36m<module>\u001B[1;34m\u001B[0m\n\u001B[0;32m     39\u001B[0m \u001B[1;32mfor\u001B[0m \u001B[0mi\u001B[0m \u001B[1;32min\u001B[0m \u001B[0mrange\u001B[0m\u001B[1;33m(\u001B[0m\u001B[1;36m32\u001B[0m\u001B[1;33m)\u001B[0m\u001B[1;33m:\u001B[0m\u001B[1;33m\u001B[0m\u001B[1;33m\u001B[0m\u001B[0m\n\u001B[0;32m     40\u001B[0m     \u001B[0mplt\u001B[0m\u001B[1;33m.\u001B[0m\u001B[0msubplot\u001B[0m\u001B[1;33m(\u001B[0m\u001B[1;36m8\u001B[0m\u001B[1;33m,\u001B[0m \u001B[1;36m4\u001B[0m\u001B[1;33m,\u001B[0m \u001B[0mi\u001B[0m \u001B[1;33m+\u001B[0m \u001B[1;36m1\u001B[0m\u001B[1;33m)\u001B[0m\u001B[1;33m\u001B[0m\u001B[1;33m\u001B[0m\u001B[0m\n\u001B[1;32m---> 41\u001B[1;33m     \u001B[0mplt\u001B[0m\u001B[1;33m.\u001B[0m\u001B[0mimshow\u001B[0m\u001B[1;33m(\u001B[0m\u001B[0mpred\u001B[0m\u001B[1;33m[\u001B[0m\u001B[1;36m0\u001B[0m\u001B[1;33m,\u001B[0m\u001B[0mi\u001B[0m\u001B[1;33m]\u001B[0m \u001B[1;33m+\u001B[0m \u001B[1;36m124\u001B[0m\u001B[1;33m,\u001B[0m \u001B[0mcmap\u001B[0m\u001B[1;33m=\u001B[0m\u001B[0mplt\u001B[0m\u001B[1;33m.\u001B[0m\u001B[0mcm\u001B[0m\u001B[1;33m.\u001B[0m\u001B[0mrainbow\u001B[0m\u001B[1;33m,\u001B[0m \u001B[0mvmin\u001B[0m\u001B[1;33m=\u001B[0m\u001B[1;36m0\u001B[0m\u001B[1;33m,\u001B[0m \u001B[0mvmax\u001B[0m\u001B[1;33m=\u001B[0m\u001B[1;36m127\u001B[0m\u001B[1;33m)\u001B[0m\u001B[1;33m\u001B[0m\u001B[1;33m\u001B[0m\u001B[0m\n\u001B[0m\u001B[0;32m     42\u001B[0m     \u001B[1;31m# plt.colorbar()\u001B[0m\u001B[1;33m\u001B[0m\u001B[1;33m\u001B[0m\u001B[1;33m\u001B[0m\u001B[0m\n\u001B[0;32m     43\u001B[0m     \u001B[0mplt\u001B[0m\u001B[1;33m.\u001B[0m\u001B[0mxticks\u001B[0m\u001B[1;33m(\u001B[0m\u001B[1;33m[\u001B[0m\u001B[1;33m]\u001B[0m\u001B[1;33m)\u001B[0m\u001B[1;33m\u001B[0m\u001B[1;33m\u001B[0m\u001B[0m\n",
      "\u001B[1;32mc:\\users\\38328\\desktop\\毕设\\mobilenet\\venv\\lib\\site-packages\\matplotlib\\pyplot.py\u001B[0m in \u001B[0;36mimshow\u001B[1;34m(X, cmap, norm, aspect, interpolation, alpha, vmin, vmax, origin, extent, filternorm, filterrad, resample, url, data, **kwargs)\u001B[0m\n\u001B[0;32m   2901\u001B[0m         \u001B[0mfilternorm\u001B[0m\u001B[1;33m=\u001B[0m\u001B[1;32mTrue\u001B[0m\u001B[1;33m,\u001B[0m \u001B[0mfilterrad\u001B[0m\u001B[1;33m=\u001B[0m\u001B[1;36m4.0\u001B[0m\u001B[1;33m,\u001B[0m \u001B[0mresample\u001B[0m\u001B[1;33m=\u001B[0m\u001B[1;32mNone\u001B[0m\u001B[1;33m,\u001B[0m \u001B[0murl\u001B[0m\u001B[1;33m=\u001B[0m\u001B[1;32mNone\u001B[0m\u001B[1;33m,\u001B[0m\u001B[1;33m\u001B[0m\u001B[1;33m\u001B[0m\u001B[0m\n\u001B[0;32m   2902\u001B[0m         data=None, **kwargs):\n\u001B[1;32m-> 2903\u001B[1;33m     __ret = gca().imshow(\n\u001B[0m\u001B[0;32m   2904\u001B[0m         \u001B[0mX\u001B[0m\u001B[1;33m,\u001B[0m \u001B[0mcmap\u001B[0m\u001B[1;33m=\u001B[0m\u001B[0mcmap\u001B[0m\u001B[1;33m,\u001B[0m \u001B[0mnorm\u001B[0m\u001B[1;33m=\u001B[0m\u001B[0mnorm\u001B[0m\u001B[1;33m,\u001B[0m \u001B[0maspect\u001B[0m\u001B[1;33m=\u001B[0m\u001B[0maspect\u001B[0m\u001B[1;33m,\u001B[0m\u001B[1;33m\u001B[0m\u001B[1;33m\u001B[0m\u001B[0m\n\u001B[0;32m   2905\u001B[0m         \u001B[0minterpolation\u001B[0m\u001B[1;33m=\u001B[0m\u001B[0minterpolation\u001B[0m\u001B[1;33m,\u001B[0m \u001B[0malpha\u001B[0m\u001B[1;33m=\u001B[0m\u001B[0malpha\u001B[0m\u001B[1;33m,\u001B[0m \u001B[0mvmin\u001B[0m\u001B[1;33m=\u001B[0m\u001B[0mvmin\u001B[0m\u001B[1;33m,\u001B[0m\u001B[1;33m\u001B[0m\u001B[1;33m\u001B[0m\u001B[0m\n",
      "\u001B[1;32mc:\\users\\38328\\desktop\\毕设\\mobilenet\\venv\\lib\\site-packages\\matplotlib\\__init__.py\u001B[0m in \u001B[0;36minner\u001B[1;34m(ax, data, *args, **kwargs)\u001B[0m\n\u001B[0;32m   1359\u001B[0m     \u001B[1;32mdef\u001B[0m \u001B[0minner\u001B[0m\u001B[1;33m(\u001B[0m\u001B[0max\u001B[0m\u001B[1;33m,\u001B[0m \u001B[1;33m*\u001B[0m\u001B[0margs\u001B[0m\u001B[1;33m,\u001B[0m \u001B[0mdata\u001B[0m\u001B[1;33m=\u001B[0m\u001B[1;32mNone\u001B[0m\u001B[1;33m,\u001B[0m \u001B[1;33m**\u001B[0m\u001B[0mkwargs\u001B[0m\u001B[1;33m)\u001B[0m\u001B[1;33m:\u001B[0m\u001B[1;33m\u001B[0m\u001B[1;33m\u001B[0m\u001B[0m\n\u001B[0;32m   1360\u001B[0m         \u001B[1;32mif\u001B[0m \u001B[0mdata\u001B[0m \u001B[1;32mis\u001B[0m \u001B[1;32mNone\u001B[0m\u001B[1;33m:\u001B[0m\u001B[1;33m\u001B[0m\u001B[1;33m\u001B[0m\u001B[0m\n\u001B[1;32m-> 1361\u001B[1;33m             \u001B[1;32mreturn\u001B[0m \u001B[0mfunc\u001B[0m\u001B[1;33m(\u001B[0m\u001B[0max\u001B[0m\u001B[1;33m,\u001B[0m \u001B[1;33m*\u001B[0m\u001B[0mmap\u001B[0m\u001B[1;33m(\u001B[0m\u001B[0msanitize_sequence\u001B[0m\u001B[1;33m,\u001B[0m \u001B[0margs\u001B[0m\u001B[1;33m)\u001B[0m\u001B[1;33m,\u001B[0m \u001B[1;33m**\u001B[0m\u001B[0mkwargs\u001B[0m\u001B[1;33m)\u001B[0m\u001B[1;33m\u001B[0m\u001B[1;33m\u001B[0m\u001B[0m\n\u001B[0m\u001B[0;32m   1362\u001B[0m \u001B[1;33m\u001B[0m\u001B[0m\n\u001B[0;32m   1363\u001B[0m         \u001B[0mbound\u001B[0m \u001B[1;33m=\u001B[0m \u001B[0mnew_sig\u001B[0m\u001B[1;33m.\u001B[0m\u001B[0mbind\u001B[0m\u001B[1;33m(\u001B[0m\u001B[0max\u001B[0m\u001B[1;33m,\u001B[0m \u001B[1;33m*\u001B[0m\u001B[0margs\u001B[0m\u001B[1;33m,\u001B[0m \u001B[1;33m**\u001B[0m\u001B[0mkwargs\u001B[0m\u001B[1;33m)\u001B[0m\u001B[1;33m\u001B[0m\u001B[1;33m\u001B[0m\u001B[0m\n",
      "\u001B[1;32mc:\\users\\38328\\desktop\\毕设\\mobilenet\\venv\\lib\\site-packages\\matplotlib\\axes\\_axes.py\u001B[0m in \u001B[0;36mimshow\u001B[1;34m(self, X, cmap, norm, aspect, interpolation, alpha, vmin, vmax, origin, extent, filternorm, filterrad, resample, url, **kwargs)\u001B[0m\n\u001B[0;32m   5607\u001B[0m                               resample=resample, **kwargs)\n\u001B[0;32m   5608\u001B[0m \u001B[1;33m\u001B[0m\u001B[0m\n\u001B[1;32m-> 5609\u001B[1;33m         \u001B[0mim\u001B[0m\u001B[1;33m.\u001B[0m\u001B[0mset_data\u001B[0m\u001B[1;33m(\u001B[0m\u001B[0mX\u001B[0m\u001B[1;33m)\u001B[0m\u001B[1;33m\u001B[0m\u001B[1;33m\u001B[0m\u001B[0m\n\u001B[0m\u001B[0;32m   5610\u001B[0m         \u001B[0mim\u001B[0m\u001B[1;33m.\u001B[0m\u001B[0mset_alpha\u001B[0m\u001B[1;33m(\u001B[0m\u001B[0malpha\u001B[0m\u001B[1;33m)\u001B[0m\u001B[1;33m\u001B[0m\u001B[1;33m\u001B[0m\u001B[0m\n\u001B[0;32m   5611\u001B[0m         \u001B[1;32mif\u001B[0m \u001B[0mim\u001B[0m\u001B[1;33m.\u001B[0m\u001B[0mget_clip_path\u001B[0m\u001B[1;33m(\u001B[0m\u001B[1;33m)\u001B[0m \u001B[1;32mis\u001B[0m \u001B[1;32mNone\u001B[0m\u001B[1;33m:\u001B[0m\u001B[1;33m\u001B[0m\u001B[1;33m\u001B[0m\u001B[0m\n",
      "\u001B[1;32mc:\\users\\38328\\desktop\\毕设\\mobilenet\\venv\\lib\\site-packages\\matplotlib\\image.py\u001B[0m in \u001B[0;36mset_data\u001B[1;34m(self, A)\u001B[0m\n\u001B[0;32m    707\u001B[0m         if not (self._A.ndim == 2\n\u001B[0;32m    708\u001B[0m                 or self._A.ndim == 3 and self._A.shape[-1] in [3, 4]):\n\u001B[1;32m--> 709\u001B[1;33m             raise TypeError(\"Invalid shape {} for image data\"\n\u001B[0m\u001B[0;32m    710\u001B[0m                             .format(self._A.shape))\n\u001B[0;32m    711\u001B[0m \u001B[1;33m\u001B[0m\u001B[0m\n",
      "\u001B[1;31mTypeError\u001B[0m: Invalid shape () for image data"
     ]
    },
    {
     "data": {
      "text/plain": "<Figure size 1440x1440 with 1 Axes>",
      "image/png": "[encoded data removed]"
     },
     "metadata": {
      "needs_background": "light"
     },
     "output_type": "display_data"
    }
   ],
   "source": [
    "# print(pred[0,0,1,0:32] + 127)\n",
    "# print(pred + 124)\n",
    "# print(type(pred[0,0]))\n",
    "\n",
    "# inter.get_tensor_details()[32]['quantization_parameters']['scales'].astype(float)\n",
    "\n",
    "# for i in range(1):\n",
    "#     for j in range(16):\n",
    "#         for k in range(32):\n",
    "#             print(pred[0, i, j, k] + 127, end=', ')\n",
    "#         print()\n",
    "\n",
    "# for i in range(32):\n",
    "#     print(pred[0,1,2,i] + 124, end=', ')\n",
    "\n",
    "# print(list(pred[0,111,111,0:32] + 127))\n",
    "# print(list(pred[0,0,0,32:64] + 127))\n",
    "# print(list(pred[0,111,111,32:64] + 127))\n",
    "# for i in range(10):\n",
    "# l = pred[0,0,0,0:32] + 124\n",
    "# for i in l[::-1]:\n",
    "#     print(dec2INT8InHex(i), end=\"\")\n",
    "# print()\n",
    "\n",
    "# l = pred[0,55,55,0:32] + 127\n",
    "# for i in l[::-1]:\n",
    "#     print(dec2INT8InHex(i), end=\"\")\n",
    "# print(pred[0,111,111,:] + 127)\n",
    "\n",
    "# for i in ((pred[0,:,:,0] + 126) *  0.02651895023882389):\n",
    "#     for j in i:\n",
    "#         print(j, end=', ')\n",
    "#     print()\n",
    "\n",
    "# print((pred[0,:,:,0] + 126) *  0.02651895023882389)\n",
    "\n",
    "# plt.imshow(test_image[0] / 255)\n",
    "plt.figure(figsize=(20, 20))\n",
    "for i in range(32):\n",
    "    plt.subplot(8, 4, i + 1)\n",
    "    plt.imshow(pred[0,:,:,i] + 127, cmap=plt.cm.rainbow, vmin=0, vmax=127)\n",
    "    # plt.colorbar()\n",
    "    plt.xticks([])\n",
    "    plt.yticks([])\n",
    "# plt.colorbar()\n",
    "plt.show()"
   ]
  },
  {
   "cell_type": "code",
   "execution_count": 55,
   "metadata": {
    "pycharm": {
     "name": "#%%\n"
    }
   },
   "outputs": [
    {
     "name": "stdout",
     "output_type": "stream",
     "text": [
      "[0.06055555]\n",
      "[0.00282    0.00247493 0.00257003 0.0021742  0.00342313 0.00230613\n",
      " 0.00278858 0.0040555  0.00178062 0.00257956 0.00241118 0.00269545\n",
      " 0.00268308 0.00406876 0.00293506 0.00253528 0.00171844 0.00258374\n",
      " 0.00159339 0.00249436 0.00321103 0.00417863 0.00162889 0.00238621\n",
      " 0.00352958 0.00164555 0.00252153 0.00338113 0.00288072 0.00290598\n",
      " 0.00243043 0.00273545 0.00270308 0.00224115 0.00313526 0.00251332\n",
      " 0.00160392 0.00284438 0.00184967 0.00238457 0.0025061  0.0023855\n",
      " 0.00339091 0.00216823 0.002106   0.00169307 0.00156868 0.00373754\n",
      " 0.0013787  0.00325935 0.0025431  0.00164243 0.0023776  0.0031358\n",
      " 0.00219148 0.00254989 0.00213936 0.00298242 0.00302201 0.00209746\n",
      " 0.00183183 0.00205813 0.00294526 0.00274235 0.00285643 0.0030198\n",
      " 0.00292393 0.00281243 0.00264538 0.0043047  0.00271001 0.00265528\n",
      " 0.00171074 0.00256897 0.00151306 0.00304255 0.00281128 0.00254071\n",
      " 0.00234846 0.00163819 0.00216422 0.00202297 0.00242817 0.00248742\n",
      " 0.00258703 0.00270535 0.00308567 0.0028066  0.00293195 0.00327393\n",
      " 0.0031575  0.00265875 0.00316627 0.00253995 0.00238302 0.00252087\n",
      " 0.00345509 0.00201501 0.00365755 0.00277062 0.00297122 0.00264072\n",
      " 0.00250761 0.00229162 0.00314666 0.00178229 0.00168289 0.00158687\n",
      " 0.00285468 0.00273831 0.00213584 0.00113421 0.00215944 0.00352878\n",
      " 0.00245932 0.00297305 0.00196426 0.00345782 0.00220822 0.00582819\n",
      " 0.00227323 0.00257315 0.0022965  0.00184835 0.00284138 0.00307211\n",
      " 0.00191371 0.00206095]\n",
      "[0.05007819]\n",
      "11, -50, -33, 79, 104, 45, -35, 5, 50, 9, -84, 21, 33, -74, -47, -6, -19, 40, 19, 16, -83, -67, 64, 41, -35, -29, -76, -90, 73, 42, 58, -4, 11, 25, 0, 28, 30, -92, -59, 7, -27, 3, -127, -61, -28, -36, 7, -33, -35, -1, -8, -24, -91, -12, -17, -55, 50, 23, -67, -9, 90, 61, -1, 63, 2754\n"
     ]
    }
   ],
   "source": [
    "# inter.get_tensor_details()[31]\n",
    "print(inter.get_tensor_details()[31]['quantization_parameters']['scales'])\n",
    "print(inter.get_tensor_details()[32]['quantization_parameters']['scales'])\n",
    "print(inter.get_tensor_details()[33]['quantization_parameters']['scales'])\n",
    "\n",
    "layer = inter.get_tensor(40)\n",
    "\n",
    "for i in layer[31,0,0,:]:\n",
    "    print(str(i) + \", \", end=\"\")\n",
    "\n",
    "layer = inter.get_tensor(8)\n",
    "print(layer[31])\n",
    "# print(layer[31,0,0,:])\n",
    "\n",
    "# print(inter.get_tensor_details()[83]['quantization_parameters']['scales'])\n",
    "# print(inter.get_tensor_details()[84]['quantization_parameters']['scales'])\n",
    "# print(inter.get_tensor_details()[85]['quantization_parameters']['scales'])\n"
   ]
  },
  {
   "cell_type": "code",
   "execution_count": 15,
   "metadata": {
    "pycharm": {
     "name": "#%%\n"
    }
   },
   "outputs": [
    {
     "name": "stdout",
     "output_type": "stream",
     "text": [
      "0x7e20ed80 0x3f1076c0 0.00096228503\n",
      "0x480bb280 0x2405d940 0.000549665\n",
      "0x6c3a3a80 0x1b0e8ea0 0.0016514199\n",
      "0x660c1d00 0x33060e80 0.00077855925\n",
      "0x46a02e00 0x8d405c0 0.0021553254\n",
      "0x5f2b0980 0x2f9584c0 0.0007260751\n",
      "0x4868c680 0x24346340 0.00055243896\n",
      "0x60829400 0x1820a500 0.0014726268\n",
      "0x4c0eaa00 0x26075500 0.000580271\n",
      "0x41af7000 0x106bdc00 0.0010022782\n",
      "0x5b41ae00 0x2da0d700 0.0006962323\n",
      "0x4d7d0b00 0x135f42c0 0.0011823799\n",
      "0x76c62180 0x76c62180 0.00045308666\n",
      "0x45cd3b80 0x11734ee0 0.0010650893\n",
      "0x7b19c700 0x3d8ce380 0.00093918375\n",
      "0x7e809e00 0x7e809e00 0.0004825684\n",
      "0x72855400 0x3942aa00 0.00087372446\n",
      "0x4933d680 0x2499eb40 0.0005584907\n",
      "0x494f3180 0x1253cc60 0.0011186119\n",
      "0x7b013380 0x3d8099c0 0.0009384513\n",
      "0x6ccc3580 0x36661ac0 0.0008300605\n",
      "0x57434100 0x2ba1a080 0.00066576165\n",
      "0x46558100 0x11956040 0.0010732117\n",
      "0x532e4f00 0x29972780 0.00063461985\n",
      "0x71521e00 0x71521e00 0.00043228443\n",
      "0x52f03b80 0x14bc0ee0 0.0012655397\n",
      "0x5e4e0180 0x2f2700c0 0.00071948784\n",
      "0x77c03900 0x3be01c80 0.00091362663\n",
      "0x51d77a80 0x28ebbd40 0.0006244027\n",
      "0x73a21a00 0x39d10d00 0.0008822114\n",
      "0x51f8ff80 0x147e3fe0 0.0012508034\n",
      "0x4bb8d700 0x25dc6b80 0.00057771325\n"
     ]
    }
   ],
   "source": [
    "import struct\n",
    "\n",
    "layer_index = 32\n",
    "\n",
    "Sx = inter.get_tensor_details()[layer_index - 1]['quantization_parameters']['scales'][0]\n",
    "# Sw = 2.5518790e-05\n",
    "Sa = inter.get_tensor_details()[layer_index + 1]['quantization_parameters']['scales'][0]\n",
    "\n",
    "n = 30\n",
    "l = []\n",
    "shift_list = []\n",
    "fraction_list = []\n",
    "fraction_after_shift = []\n",
    "final_shift = 0\n",
    "M_list = []\n",
    "\n",
    "for Sw in inter.get_tensor_details()[layer_index]['quantization_parameters']['scales']:\n",
    "    M = (Sx * Sw) / Sa\n",
    "    M_list.append(M)\n",
    "    t = InterFrExp(M)\n",
    "    fraction_list.append(t[0])\n",
    "    shift_list.append(t[1])\n",
    "\n",
    "shift_min = min(shift_list)\n",
    "final_shift = n + abs(shift_min)\n",
    "\n",
    "for i in range(len(fraction_list)):\n",
    "    if shift_list[i] != shift_min:\n",
    "        t_shift = abs(shift_min) - abs(shift_list[i])\n",
    "        fraction_after_shift.append(fraction_list[i] >> t_shift)\n",
    "    else:\n",
    "        fraction_after_shift.append(fraction_list[i])\n",
    "\n",
    "for i in range(len(fraction_list)):\n",
    "    print(hex(fraction_list[i]), hex(fraction_after_shift[i]), M_list[i])\n",
    "\n",
    "    # print(M, end='  ')\n",
    "    # print(math.frexp(M), end='  ')\n",
    "    # t = math.frexp(M)\n",
    "    # M0 = int(t[0] * (2 ** (n + t[1])))\n",
    "    # print(hex(M0), end='  ')\n",
    "    # print(dec2INT32InHex(M0), end='  ')\n",
    "    # M1 = int(M * (2 ** (32)))\n",
    "    # print(hex(M1))\n",
    "    # if M0 != M1:\n",
    "    #     print(M, M0, M1, end='  ')\n",
    "    # print(M0, M, M0 / (2 ** n) - M)\n",
    "    # print('0x' + dec2INT32InHex(M0), end=', ')\n",
    "#     l.append(dec2INT32InHex(M0))\n",
    "# print(l[31])"
   ]
  },
  {
   "cell_type": "code",
   "execution_count": 1,
   "metadata": {
    "pycharm": {
     "name": "#%%\n"
    }
   },
   "outputs": [],
   "source": [
    "from utils import *\n",
    "convert_h5_to_c_quant('model/newer/MobileNet.tflite', n=36)"
   ]
  },
  {
   "cell_type": "code",
   "execution_count": 31,
   "metadata": {
    "pycharm": {
     "name": "#%%\n"
    }
   },
   "outputs": [],
   "source": [
    "# inter.get_tensor_details()[86]\n",
    "# print()\n",
    "pool_list = []\n",
    "sum = np.int64\n",
    "\n",
    "for c in range(1024):\n",
    "    sum = 0\n",
    "    for i in range(7):\n",
    "        for j in range(7):\n",
    "            sum += np.int64(pred[0, i, j, c] + 127)\n",
    "    pool_list.append(sum)"
   ]
  },
  {
   "cell_type": "code",
   "execution_count": 10,
   "metadata": {
    "pycharm": {
     "name": "#%%\n"
    }
   },
   "outputs": [
    {
     "name": "stdout",
     "output_type": "stream",
     "text": [
      "191331499 0.08909567229480274 0.08909567212685943 -1.6794331203495716e-10\n",
      "191331499\n",
      "142\n"
     ]
    }
   ],
   "source": [
    "Sx = 0.046231940388679504\n",
    "Sa = 0.010589840821921825\n",
    "Sw = 0.02040816326530612244897959183673\n",
    "\n",
    "n = 31\n",
    "\n",
    "M = (Sx * Sw) / Sa\n",
    "M0 = int(M * (2 ** n))\n",
    "print(M0, M, M0 / (2 ** n), M0 / (2 ** n) - M)\n",
    "print(M0)\n",
    "\n",
    "print((1596 * M0) >> n)"
   ]
  },
  {
   "cell_type": "code",
   "execution_count": 90,
   "metadata": {
    "pycharm": {
     "name": "#%%\n"
    }
   },
   "outputs": [
    {
     "name": "stdout",
     "output_type": "stream",
     "text": [
      "<class 'numpy.int64'>\n",
      "[4, 3, 1, 0, 142, 0, 4, 0, 80, 38, 64, 5, 22, 85, 2, 44, 84, 41, 0, 34, 71, 0, 3, 130, 8, 90, 5, 6, 44, 33, 0, 0, 59, 34, 68, 22, 2, 46, 81, 38, 61, 21, 3, 102, 17, 51, 31, 31, 12, 4, 0, 145, 0, 9, 1, 1, 30, 26, 0, 46, 8, 72, 33, 0, 8, 0, 0, 45, 69, 49, 47, 0, 26, 0, 3, 0, 60, 75, 5, 24, 5, 13, 6, 58, 53, 84, 11, 106, 65, 0, 12, 0, 51, 1, 159, 9, 91, 0, 6, 61, 150, 0, 0, 13, 8, 47, 12, 27, 32, 58, 1, 2, 7, 36, 196, 124, 67, 89, 0, 2, 42, 95, 22, 73, 110, 21, 0, 5, 8, 0, 0, 95, 76, 38, 1, 15, 132, 106, 29, 0, 7, 12, 11, 6, 0, 51, 4, 99, 15, 0, 51, 36, 77, 58, 50, 19, 58, 173, 12, 52, 61, 0, 21, 126, 51, 52, 22, 9, 10, 24, 1, 0, 0, 103, 3, 19, 68, 1, 1, 32, 79, 117, 37, 0, 61, 64, 0, 8, 19, 5, 3, 80, 0, 81, 11, 89, 51, 60, 7, 28, 86, 18, 0, 27, 0, 6, 7, 27, 2, 27, 35, 11, 33, 142, 9, 159, 43, 59, 44, 27, 161, 0, 63, 13, 28, 75, 5, 46, 11, 4, 29, 27, 11, 5, 60, 0, 2, 19, 26, 23, 5, 69, 27, 4, 36, 80, 0, 28, 49, 33, 34, 81, 58, 149, 3, 45, 110, 41, 27, 17, 16, 50, 7, 58, 5, 79, 0, 59, 66, 28, 1, 1, 49, 17, 56, 8, 0, 28, 31, 0, 126, 1, 79, 17, 42, 88, 8, 0, 3, 74, 1, 8, 6, 58, 37, 26, 4, 44, 93, 122, 51, 35, 58, 1, 15, 21, 2, 33, 41, 2, 57, 53, 6, 39, 27, 60, 0, 28, 1, 40, 85, 100, 112, 187, 62, 20, 84, 16, 21, 11, 188, 0, 143, 3, 3, 25, 63, 46, 77, 13, 15, 82, 130, 10, 15, 0, 36, 27, 63, 35, 25, 8, 0, 42, 94, 0, 0, 0, 40, 7, 45, 29, 154, 52, 19, 23, 21, 6, 3, 57, 0, 159, 4, 39, 52, 45, 8, 0, 36, 0, 0, 11, 30, 0, 6, 70, 17, 0, 124, 101, 12, 8, 6, 27, 11, 7, 55, 63, 1, 14, 2, 99, 1, 30, 0, 13, 51, 7, 1, 22, 134, 10, 0, 254, 15, 4, 27, 14, 14, 66, 66, 71, 7, 11, 88, 0, 77, 0, 33, 38, 110, 39, 6, 73, 0, 31, 45, 14, 4, 35, 27, 107, 29, 134, 33, 26, 1, 73, 3, 61, 83, 29, 50, 79, 20, 10, 0, 94, 0, 77, 106, 17, 26, 8, 0, 59, 19, 4, 58, 2, 85, 66, 6, 1, 17, 7, 7, 0, 18, 103, 16, 34, 49, 83, 7, 29, 22, 0, 2, 0, 77, 7, 13, 127, 170, 7, 1, 1, 89, 2, 0, 88, 13, 2, 3, 13, 9, 88, 46, 35, 0, 2, 0, 88, 20, 62, 46, 1, 50, 1, 45, 96, 15, 33, 190, 113, 14, 36, 9, 26, 7, 16, 75, 8, 77, 25, 1, 21, 23, 4, 1, 4, 51, 6, 0, 0, 3, 2, 0, 21, 221, 0, 3, 42, 0, 1, 142, 12, 94, 38, 18, 9, 89, 134, 4, 36, 0, 2, 16, 47, 6, 64, 51, 43, 3, 58, 19, 111, 35, 153, 52, 87, 5, 5, 82, 9, 0, 62, 3, 31, 22, 33, 12, 83, 0, 0, 1, 93, 48, 26, 44, 20, 1, 5, 6, 0, 104, 2, 73, 58, 12, 0, 11, 63, 110, 11, 31, 112, 8, 91, 50, 16, 41, 33, 10, 4, 0, 27, 0, 7, 15, 54, 87, 103, 7, 9, 32, 20, 69, 17, 61, 1, 43, 15, 100, 0, 62, 3, 50, 6, 105, 17, 52, 10, 86, 1, 12, 1, 45, 31, 2, 0, 10, 1, 11, 24, 103, 2, 45, 9, 50, 68, 67, 2, 97, 12, 0, 12, 154, 0, 0, 78, 67, 43, 22, 94, 4, 0, 13, 90, 126, 4, 39, 84, 27, 18, 45, 98, 10, 26, 4, 0, 31, 137, 22, 7, 36, 36, 49, 35, 32, 11, 37, 15, 21, 10, 2, 34, 1, 42, 113, 6, 0, 46, 59, 81, 2, 17, 5, 2, 22, 5, 0, 58, 42, 17, 112, 6, 218, 8, 55, 0, 27, 19, 32, 25, 50, 39, 0, 15, 7, 0, 10, 1, 22, 5, 0, 17, 30, 4, 0, 127, 1, 21, 33, 70, 19, 39, 72, 30, 29, 89, 24, 65, 57, 39, 5, 78, 63, 49, 116, 1, 62, 147, 42, 2, 46, 14, 33, 6, 11, 19, 8, 40, 2, 115, 126, 4, 0, 0, 23, 21, 16, 0, 7, 1, 25, 35, 63, 29, 82, 108, 42, 22, 9, 85, 39, 36, 25, 122, 66, 41, 96, 34, 2, 6, 79, 0, 102, 0, 51, 3, 40, 42, 10, 9, 0, 61, 1, 85, 12, 56, 33, 0, 56, 13, 17, 23, 17, 5, 8, 0, 0, 60, 109, 41, 95, 30, 89, 1, 16, 12, 21, 36, 5, 0, 0, 18, 113, 27, 5, 33, 41, 6, 58, 78, 4, 63, 8, 13, 0, 66, 17, 0, 0, 72, 1, 0, 41, 24, 27, 32, 43, 1, 160, 13, 10, 24, 102, 220, 99, 96, 53, 20, 5, 49, 9, 6, 17, 90, 57, 40, 54, 56, 24, 10, 7, 25, 15, 1, 0, 114, 19, 4, 47, 34, 5, 0, 41, 28, 100, 15, 0, 0, 45, 14, 11, 44, 6, 114, 79, 165, 26, 12, 123, 76, 36, 14, 0, 10, 0, 2, 47, 64, 35, 12, 6, 0, 6, 12, 31, 52, 67, 0, 16, 82, 0, 166, 2, 47, 171, 0, 60, 65, 7, 37, 82, 43, 6, 100, 6, 4, 79, 10, 18, 56, 137, 13, 3, 21, 55, 15, 80, 4, 0, 8, 76, 0, 28, 7, 15, 5, 43, 131, 46, 45, 19, 8, 3, 25, 0, 17, 65, 0, 1, 0, 91, 28, 26, 6, 9, 98, 23, 2]\n"
     ]
    }
   ],
   "source": [
    "print(type(pool_list[0]))\n",
    "for c in range(1024):\n",
    "    pool_list[c] = pool_list[c] * M0 >> n\n",
    "print(pool_list)"
   ]
  },
  {
   "cell_type": "code",
   "execution_count": 38,
   "metadata": {
    "pycharm": {
     "name": "#%%\n"
    }
   },
   "outputs": [
    {
     "data": {
      "text/plain": [
       "array([[  4, -11,  -9, ..., -59,  21, -25],\n",
       "       [  8,  13,   7, ...,  -5,  21,  -2],\n",
       "       [-30, -18, -34, ..., -13,  -3, -12],\n",
       "       ...,\n",
       "       [-49, -41, -43, ...,  -8,  -9, -25],\n",
       "       [-14, -58, -53, ..., -15,  39,  38],\n",
       "       [-46,  38, -19, ..., -26,  12,  11]], dtype=int8)"
      ]
     },
     "execution_count": 38,
     "metadata": {},
     "output_type": "execute_result"
    }
   ],
   "source": [
    "# inter.get_tensor_details()[88]\n",
    "inter.get_tensor(88)"
   ]
  },
  {
   "cell_type": "code",
   "execution_count": 34,
   "metadata": {
    "pycharm": {
     "name": "#%%\n"
    }
   },
   "outputs": [
    {
     "name": "stdout",
     "output_type": "stream",
     "text": [
      "5882\n"
     ]
    },
    {
     "data": {
      "text/plain": [
       "'000016fa'"
      ]
     },
     "execution_count": 34,
     "metadata": {},
     "output_type": "execute_result"
    }
   ],
   "source": [
    "Sx = 0.010589840821921825\n",
    "Sa = 0.2866767346858978\n",
    "Sw = 0.004745790734887123\n",
    "\n",
    "M = (Sx * Sw) / Sa\n",
    "M0 = int(M * (2 ** 25))\n",
    "# print(M0, M, M0 / (2 ** n) - M)\n",
    "print(M0)\n",
    "dec2INT32InHex(M0)"
   ]
  },
  {
   "cell_type": "code",
   "execution_count": 42,
   "metadata": {
    "pycharm": {
     "name": "#%%\n"
    }
   },
   "outputs": [
    {
     "name": "stdout",
     "output_type": "stream",
     "text": [
      "(43, 1024)\n"
     ]
    }
   ],
   "source": [
    "fc_file = open('fc.h', 'w')\n",
    "\n",
    "array = inter.get_tensor(88)\n",
    "print(array.shape)\n",
    "fc_file.write(\"static short fc_quant[][1024] = {\\n\")\n",
    "\n",
    "for i in range(43):\n",
    "    fc_file.write('    {')\n",
    "    for j in range(1024):\n",
    "        fc_file.write(str(array[i][j]) + ', ')\n",
    "    fc_file.write('},\\n')\n",
    "\n",
    "fc_file.write('};\\n')\n",
    "\n",
    "array = inter.get_tensor(30)\n",
    "fc_file.write(\"static int fc_quant_bias[] = {\\n\")\n",
    "for i in range(43):\n",
    "    fc_file.write(str(array[i]) + ', ')\n",
    "\n",
    "fc_file.write('};\\n')\n",
    "\n",
    "fc_file.close()\n"
   ]
  }
 ],
 "metadata": {
  "kernelspec": {
   "display_name": "Python 3",
   "language": "python",
   "name": "python3"
  },
  "language_info": {
   "codemirror_mode": {
    "name": "ipython",
    "version": 3
   },
   "file_extension": ".py",
   "mimetype": "text/x-python",
   "name": "python",
   "nbconvert_exporter": "python",
   "pygments_lexer": "ipython3",
   "version": "3.8.10"
  }
 },
 "nbformat": 4,
 "nbformat_minor": 1
}