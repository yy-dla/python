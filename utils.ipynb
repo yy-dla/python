{
 "cells": [
  {
   "cell_type": "code",
   "execution_count": 7,
   "metadata": {
    "collapsed": true
   },
   "outputs": [],
   "source": [
    "import math"
   ]
  },
  {
   "cell_type": "code",
   "execution_count": 1,
   "outputs": [
    {
     "name": "stdout",
     "output_type": "stream",
     "text": [
      "0.0027714884381566662\n",
      "0.339851897272604\n"
     ]
    }
   ],
   "source": [
    "# y = 0.3328968\n",
    "y = 0.32915375\n",
    "x = -106.19383\n",
    "u = -148.4383087158203\n",
    "c = 15451.13671875\n",
    "r = 1.1355538368225098\n",
    "b = -0.05676637589931488\n",
    "e = ((x - u) ** 2) / (((y - b) / r) ** 2) - c\n",
    "\n",
    "print(e)\n",
    "\n",
    "x_hat = (y - b) / r\n",
    "print(x_hat)"
   ],
   "metadata": {
    "collapsed": false,
    "pycharm": {
     "name": "#%%\n"
    }
   }
  },
  {
   "cell_type": "code",
   "execution_count": 16,
   "outputs": [
    {
     "name": "stdout",
     "output_type": "stream",
     "text": [
      "-0.0011031295509886477\n"
     ]
    }
   ],
   "source": [
    "w = -0.12075331062078476\n",
    "# e = 0.003\n",
    "e = 0.0027714884381566662\n",
    "\n",
    "r_hat = (r / (math.sqrt(c + e)))\n",
    "\n",
    "w_h = w * r_hat\n",
    "\n",
    "print(w_h)"
   ],
   "metadata": {
    "collapsed": false,
    "pycharm": {
     "name": "#%%\n"
    }
   }
  }
 ],
 "metadata": {
  "kernelspec": {
   "display_name": "Python 3",
   "language": "python",
   "name": "python3"
  },
  "language_info": {
   "codemirror_mode": {
    "name": "ipython",
    "version": 2
   },
   "file_extension": ".py",
   "mimetype": "text/x-python",
   "name": "python",
   "nbconvert_exporter": "python",
   "pygments_lexer": "ipython2",
   "version": "2.7.6"
  }
 },
 "nbformat": 4,
 "nbformat_minor": 0
}