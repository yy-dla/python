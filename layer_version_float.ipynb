{
 "cells": [
  {
   "cell_type": "code",
   "execution_count": null,
   "metadata": {
    "collapsed": true
   },
   "outputs": [],
   "source": [
    "import tensorflow as tf\n",
    "\n",
    "import keras\n",
    "import tensorflow_model_optimization as tfmot\n",
    "import platform\n",
    "import time\n",
    "import matplotlib.pyplot as plt\n",
    "from PIL import Image\n",
    "import os\n",
    "\n",
    "os.environ['TF_XLA_FLAGS'] = '--tf_xla_enable_xla_devices'\n",
    "os.environ[\"CUDA_VISIBLE_DEVICES\"] = \"-1\""
   ]
  },
  {
   "cell_type": "code",
   "execution_count": null,
   "outputs": [],
   "source": [
    "with tfmot.quantization.keras.quantize_scope():\n",
    "    model = tf.keras.models.load_model('./model/newer/MobileNet_quantized.h5')"
   ],
   "metadata": {
    "collapsed": false,
    "pycharm": {
     "name": "#%%\n"
    }
   }
  },
  {
   "cell_type": "code",
   "execution_count": null,
   "outputs": [],
   "source": [
    "layer_weight = model.get_layer(layer_name).get_weights()[1]\n",
    "layer_bias = model.get_layer(layer_name).get_weights()[0]"
   ],
   "metadata": {
    "collapsed": false,
    "pycharm": {
     "name": "#%%\n"
    }
   }
  },
  {
   "cell_type": "code",
   "execution_count": 11,
   "outputs": [
    {
     "name": "stdout",
     "output_type": "stream",
     "text": [
      "[30  0 21  0  1  0  0 26 12  0  0 12  0 13  0 10 19 10  5  3  3  6  0  0\n",
      " 15  0  0  0  0 17 12 10]\n"
     ]
    }
   ],
   "source": [
    "import numpy as np\n",
    "l = [\n",
    "    np.float32(0.819345236),\n",
    "    np.float32(-0.0254304111),\n",
    "    np.float32(0.557612479),\n",
    "    np.float32(-0.512169182),\n",
    "    np.float32(0.0372791067),\n",
    "    np.float32(-0.524824381),\n",
    "    np.float32(-0.312293291),\n",
    "    np.float32(0.691444874),\n",
    "    np.float32(0.320919335),\n",
    "    np.float32(-0.711265445),\n",
    "    np.float32(-0.0661719143),\n",
    "    np.float32(0.322307169),\n",
    "    np.float32(-0.217078045),\n",
    "    np.float32(0.349526554),\n",
    "    np.float32(-0.433713675),\n",
    "    np.float32(0.288572758),\n",
    "    np.float32(0.525329709),\n",
    "    np.float32(0.269617468),\n",
    "    np.float32(0.134958163),\n",
    "    np.float32(0.0996090993),\n",
    "    np.float32(0.102976456),\n",
    "    np.float32(0.159824014),\n",
    "    np.float32(-0.560572028),\n",
    "    np.float32(-0.403522998),\n",
    "    np.float32(0.422424912),\n",
    "    np.float32(-0.0225979239),\n",
    "    np.float32(-0.252668202),\n",
    "    np.float32(0.0230293553),\n",
    "    np.float32(-0.361910105),\n",
    "    np.float32(0.455963075),\n",
    "    np.float32(0.330728531),\n",
    "    np.float32(0.268466830),\n",
    "]\n",
    "\n",
    "l = np.asarray(l)\n",
    "l.astype(np.float32)\n",
    "\n",
    "for i in range(len(l)):\n",
    "    if l[i] < 0:\n",
    "        l[i] = np.float32(0)\n",
    "\n",
    "\n",
    "l1 = (l / np.float32(0.02651895023882389)).astype(int)\n",
    "\n",
    "print(l1)\n"
   ],
   "metadata": {
    "collapsed": false,
    "pycharm": {
     "name": "#%%\n"
    }
   }
  }
 ],
 "metadata": {
  "kernelspec": {
   "display_name": "Python 3",
   "language": "python",
   "name": "python3"
  },
  "language_info": {
   "codemirror_mode": {
    "name": "ipython",
    "version": 2
   },
   "file_extension": ".py",
   "mimetype": "text/x-python",
   "name": "python",
   "nbconvert_exporter": "python",
   "pygments_lexer": "ipython2",
   "version": "2.7.6"
  }
 },
 "nbformat": 4,
 "nbformat_minor": 0
}