{
 "cells": [
  {
   "cell_type": "code",
   "execution_count": 11,
   "metadata": {
    "collapsed": true
   },
   "outputs": [],
   "source": [
    "import numpy as np\n",
    "from utils import *"
   ]
  },
  {
   "cell_type": "code",
   "execution_count": 6,
   "outputs": [],
   "source": [
    "a = [\n",
    "    [\n",
    "        [\n",
    "            -17,\n",
    "            -29,\n",
    "            -42\n",
    "        ],\n",
    "        [\n",
    "            15,\n",
    "            69,\n",
    "            -60\n",
    "        ],\n",
    "        [\n",
    "            73,\n",
    "            15,\n",
    "            -77\n",
    "        ]\n",
    "    ],\n",
    "    [\n",
    "        [\n",
    "            56,\n",
    "            -3,\n",
    "            -19\n",
    "        ],\n",
    "        [\n",
    "            -8,\n",
    "            27,\n",
    "            -105\n",
    "        ],\n",
    "        [\n",
    "            24,\n",
    "            -34,\n",
    "            -115\n",
    "        ]\n",
    "    ],\n",
    "    [\n",
    "        [\n",
    "            46,\n",
    "            70,\n",
    "            -60\n",
    "        ],\n",
    "        [\n",
    "            -51,\n",
    "            -12,\n",
    "            -127\n",
    "        ],\n",
    "        [\n",
    "            -26,\n",
    "            26,\n",
    "            -124\n",
    "        ]\n",
    "    ]\n",
    "]\n",
    "\n",
    "b = [\n",
    "    [\n",
    "        [0x62, 0x46, 0x3a], [0x60, 0x46, 0x39], [0x59, 0x3f, 0x32]\n",
    "    ],\n",
    "    [\n",
    "        [0x58, 0x3d, 0x32], [0x55, 0x3e, 0x30], [0x4f, 0x37, 0x2b]\n",
    "    ],\n",
    "    [\n",
    "        [0x48, 0x32, 0x27], [0x46, 0x33, 0x25], [0x41, 0x2d, 0x22]\n",
    "    ]\n",
    "]\n",
    "\n",
    "a = np.asarray(a)\n",
    "b = np.asarray(b)"
   ],
   "metadata": {
    "collapsed": false,
    "pycharm": {
     "name": "#%%\n"
    }
   }
  },
  {
   "cell_type": "code",
   "execution_count": 7,
   "outputs": [
    {
     "name": "stdout",
     "output_type": "stream",
     "text": [
      "(3, 3, 3)\n",
      "(3, 3, 3)\n"
     ]
    }
   ],
   "source": [
    "print(a.shape)\n",
    "print(b.shape)"
   ],
   "metadata": {
    "collapsed": false,
    "pycharm": {
     "name": "#%%\n"
    }
   }
  },
  {
   "cell_type": "code",
   "execution_count": 8,
   "outputs": [
    {
     "name": "stdout",
     "output_type": "stream",
     "text": [
      "32309\n"
     ]
    }
   ],
   "source": [
    "s = 0\n",
    "for c in range(3):\n",
    "    for x in range(3):\n",
    "        for y in range(3):\n",
    "            s += a[c][x][y] * b[c][x][y]\n",
    "\n",
    "s += 46314\n",
    "\n",
    "print(s)"
   ],
   "metadata": {
    "collapsed": false,
    "pycharm": {
     "name": "#%%\n"
    }
   }
  },
  {
   "cell_type": "code",
   "execution_count": 9,
   "outputs": [
    {
     "name": "stdout",
     "output_type": "stream",
     "text": [
      "[[[ -17  -29  -42]\n",
      "  [  15   69  -60]\n",
      "  [  73   15  -77]]\n",
      "\n",
      " [[  56   -3  -19]\n",
      "  [  -8   27 -105]\n",
      "  [  24  -34 -115]]\n",
      "\n",
      " [[  46   70  -60]\n",
      "  [ -51  -12 -127]\n",
      "  [ -26   26 -124]]]\n"
     ]
    }
   ],
   "source": [
    "print(a)"
   ],
   "metadata": {
    "collapsed": false,
    "pycharm": {
     "name": "#%%\n"
    }
   }
  },
  {
   "cell_type": "code",
   "execution_count": 10,
   "outputs": [
    {
     "data": {
      "text/plain": "31"
     },
     "execution_count": 10,
     "metadata": {},
     "output_type": "execute_result"
    }
   ],
   "source": [
    "s * 32288 >> 25"
   ],
   "metadata": {
    "collapsed": false,
    "pycharm": {
     "name": "#%%\n"
    }
   }
  },
  {
   "cell_type": "code",
   "execution_count": 18,
   "outputs": [
    {
     "name": "stdout",
     "output_type": "stream",
     "text": [
      "80000682\n",
      "800007ee\n",
      "80000984\n",
      "000005a0\n",
      "000012de\n",
      "80000d5c\n",
      "00001961\n",
      "000003b1\n",
      "80000f0a\n",
      "00001340\n",
      "800000b7\n",
      "800003b6\n",
      "800002a8\n",
      "0000068a\n",
      "800013b0\n",
      "00000768\n",
      "8000074e\n",
      "80001351\n",
      "00000cf0\n",
      "00000dac\n",
      "80000924\n",
      "80000df2\n",
      "80000264\n",
      "8000125b\n",
      "8000069a\n",
      "00000492\n",
      "80001078\n"
     ]
    }
   ],
   "source": [
    "l = []\n",
    "for c in range(3):\n",
    "    for x in range(3):\n",
    "        for y in range(3):\n",
    "            l.append(a[c][x][y] * b[c][x][y])\n",
    "            print(dec2INT32InHex(a[c][x][y] * b[c][x][y]))\n",
    "\n",
    "l.reverse()\n",
    "l.append(46314)"
   ],
   "metadata": {
    "collapsed": false,
    "pycharm": {
     "name": "#%%\n"
    }
   }
  },
  {
   "cell_type": "code",
   "execution_count": 20,
   "outputs": [
    {
     "name": "stdout",
     "output_type": "stream",
     "text": [
      "80000be6\n",
      "800018f5\n",
      "80001056\n",
      "00000488\n",
      "80000661\n",
      "0000001a\n",
      "80000d26\n",
      "8000065e\n",
      "00001289\n",
      "80000b59\n",
      "00000c05\n",
      "0000187e\n",
      "80001172\n",
      "0000ae68\n"
     ]
    }
   ],
   "source": [
    "l1 = []\n",
    "for i in range(len(l)):\n",
    "    if i % 2 == 0:\n",
    "        l1.append(l[i] + l[i + 1])\n",
    "        print(dec2INT32InHex(l[i] + l[i + 1]))"
   ],
   "metadata": {
    "collapsed": false,
    "pycharm": {
     "name": "#%%\n"
    }
   }
  },
  {
   "cell_type": "code",
   "execution_count": 22,
   "outputs": [
    {
     "name": "stdout",
     "output_type": "stream",
     "text": [
      "800024db\n",
      "80000bce\n",
      "80000647\n",
      "80001384\n",
      "00000730\n",
      "00002483\n",
      "00009cf6\n"
     ]
    }
   ],
   "source": [
    "l2 = []\n",
    "for i in range(len(l1)):\n",
    "    if i % 2 == 0:\n",
    "        l2.append(l1[i] + l1[i + 1])\n",
    "        print(dec2INT32InHex(l1[i] + l1[i + 1]))"
   ],
   "metadata": {
    "collapsed": false,
    "pycharm": {
     "name": "#%%\n"
    }
   }
  },
  {
   "cell_type": "code",
   "execution_count": 27,
   "outputs": [
    {
     "name": "stdout",
     "output_type": "stream",
     "text": [
      "800030a9\n",
      "800019cb\n",
      "00002bb3\n"
     ]
    }
   ],
   "source": [
    "l3 = []\n",
    "for i in range(len(l2) - 1):\n",
    "    if i % 2 == 0:\n",
    "        l3.append(l2[i] + l2[i + 1])\n",
    "        print(dec2INT32InHex(l2[i] + l2[i + 1]))\n",
    "l3.append(l2[6])"
   ],
   "metadata": {
    "collapsed": false,
    "pycharm": {
     "name": "#%%\n"
    }
   }
  },
  {
   "cell_type": "code",
   "execution_count": 30,
   "outputs": [
    {
     "name": "stdout",
     "output_type": "stream",
     "text": [
      "80004a74\n",
      "0000c8a9\n"
     ]
    }
   ],
   "source": [
    "l4 = []\n",
    "for i in range(len(l3)):\n",
    "    if i % 2 == 0:\n",
    "        l4.append(l3[i] + l3[i + 1])\n",
    "        print(dec2INT32InHex(l3[i] + l3[i + 1]))"
   ],
   "metadata": {
    "collapsed": false,
    "pycharm": {
     "name": "#%%\n"
    }
   }
  },
  {
   "cell_type": "code",
   "execution_count": 31,
   "outputs": [
    {
     "name": "stdout",
     "output_type": "stream",
     "text": [
      "00007e35\n"
     ]
    }
   ],
   "source": [
    "print(dec2INT32InHex(l4[0] + l4[1]))"
   ],
   "metadata": {
    "collapsed": false,
    "pycharm": {
     "name": "#%%\n"
    }
   }
  },
  {
   "cell_type": "code",
   "execution_count": 1,
   "outputs": [],
   "source": [
    "import re\n",
    "fp = open(\"D:\\\\vivado_projects\\\\ip_repo\\\\MobileNet_1_0\\\\hdl\\\\tb\\\\pw_M_AXIS_TDATA.txt\", 'r')\n",
    "coe = open(\"D:\\\\vivado_projects\\\\ip_repo\\\\MobileNet_1_0\\\\hdl\\\\hex\\\\pw_conv_result.coe\", 'w')\n",
    "\n",
    "l = fp.readlines()\n",
    "t = []\n",
    "s = \"\"\n",
    "for i in l:\n",
    "    s = i[:-1] + s\n",
    "sl = re.findall(r'.{64}', s)\n",
    "sl.reverse()\n",
    "# print(sl)\n",
    "\n",
    "for t in sl:\n",
    "    coe.write(t + ',\\n')\n",
    "\n",
    "fp.close()\n",
    "coe.close()"
   ],
   "metadata": {
    "collapsed": false,
    "pycharm": {
     "name": "#%%\n"
    }
   }
  },
  {
   "cell_type": "code",
   "execution_count": 1,
   "outputs": [],
   "source": [
    "\"\"\"\n",
    "memory_initialization_radix=16;\n",
    "memory_initialization_vector=\n",
    "\"\"\"\n",
    "import re\n",
    "fp = open(\"D:\\\\vivado_projects\\\\ip_repo\\\\MobileNet_1_0\\\\hdl\\\\tb\\\\dw_cal_result.txt\", 'r')\n",
    "coe = open(\"D:\\\\vivado_projects\\\\ip_repo\\\\MobileNet_1_0\\\\hdl\\\\hex\\\\dw_cal_result.coe\", 'w')\n",
    "\n",
    "l = fp.readlines()\n",
    "t = []\n",
    "s = \"\"\n",
    "\n",
    "for i in l:\n",
    "    r = re.findall(r'.{8}', i)\n",
    "    r.reverse()\n",
    "    t += r\n",
    "\n",
    "for i in t:\n",
    "    coe.write(i + ', \\n')\n",
    "\n",
    "fp.close()\n",
    "coe.close()"
   ],
   "metadata": {
    "collapsed": false,
    "pycharm": {
     "name": "#%%\n"
    }
   }
  },
  {
   "cell_type": "code",
   "execution_count": 28,
   "outputs": [
    {
     "name": "stdout",
     "output_type": "stream",
     "text": [
      "00000545\n",
      "00001158\n",
      "0000169d\n",
      "0000215f\n",
      "38841053\n",
      "0000001c\n"
     ]
    }
   ],
   "source": [
    "from utils import *\n",
    "# w = [54,   62,   10,   34,   -4,   18,   31,   38,   40,   -18,   17,   14,   -63,   93,   -19,   -70,   7,   16,   -2,   35,   62,   0,   127,   -16,   -2,   -47,   23,   70,   36,   -34,   13,   11,   14,   36,   -15,   32,   41,   -33,   -18,   24,   -2,   11,   -28,   -81,   -2,   19,   -20,   30,   -12,   -8,   -13,   11,   -11,   21,   -21,   -40,   -62,   7,   28,   -33,   -20,   -56,   72,   7]\n",
    "# w = [-34,-49,-30,79,27,-16,95,-34,84,63,21,-36,-11,-127,-24,-18,-63,-92,108,5,-79,30,-122,43,79,29,16,-92,-1,1,1,-61,52,-105,58,65,-70,0,-16,21,-102,-92,33,39,96,-24,21,-55,-1,-11,112,23,51,-55,-37,-94,-31,60,-116,24,20,41,57,36]\n",
    "w = [11, -50, -33, 79, 104, 45, -35, 5, 50, 9, -84, 21, 33, -74, -47, -6, -19, 40, 19, 16, -83, -67, 64, 41, -35, -29, -76, -90, 73, 42, 58, -4, 11, 25, 0, 28, 30, -92, -59, 7, -27, 3, -127, -61, -28, -36, 7, -33, -35, -1, -8, -24, -91, -12, -17, -55, 50, 23, -67, -9, 90, 61, -1, 63]\n",
    "b =  2754\n",
    "M = 0x1b18d\n",
    "# print(dec2INT32InHex(M))\n",
    "import numpy as np\n",
    "s1 = \"080500000d0e00030300000f01000c0000000f1300000000000000121e00001b\"\n",
    "s2 = \"04000043000000060a000000000000050200000000000614080f000000000000\"\n",
    "x = [0x08, 0x05, 0x00, 0x00, 0x0d, 0x0e, 0x00, 0x03, 0x03, 0x00, 0x00, 0x0f, 0x01, 0x00, 0x0c, 0x00, 0x00, 0x00, 0x0f, 0x13, 0x00, 0x00, 0x00, 0x00, 0x00, 0x00, 0x00, 0x12, 0x1e, 0x00, 0x00, 0x1b, 0x04, 0x00, 0x00, 0x43, 0x00, 0x00, 0x00, 0x06, 0x0a, 0x00, 0x00, 0x00, 0x00, 0x00, 0x00, 0x05, 0x02, 0x00, 0x00, 0x00, 0x00, 0x00, 0x06, 0x14, 0x08, 0x0f, 0x00, 0x00, 0x00, 0x00, 0x00, 0x00]\n",
    "# import re\n",
    "# r = re.findall(r'.{2}', s1)\n",
    "# r += re.findall(r'.{2}', s2)\n",
    "# r = np.asarray(r)\n",
    "# for i in r:\n",
    "#     print('0x' + i + ', ', end='')\n",
    "# print(r.shape)\n",
    "w.reverse()\n",
    "sum = 0\n",
    "for xt in range(32):\n",
    "    sum += x[xt] * w[32 + xt]\n",
    "\n",
    "sum1 = 0\n",
    "for xt in range(32):\n",
    "    sum1 += x[32 + xt] * w[xt]\n",
    "\n",
    "print(dec2INT32InHex(sum))\n",
    "print(dec2INT32InHex(sum1))\n",
    "print(dec2INT32InHex(sum + sum1))\n",
    "\n",
    "sum2 = sum + sum1 + b\n",
    "print(dec2INT32InHex(sum2))\n",
    "\n",
    "res = sum2 * M\n",
    "print(dec2INT32InHex(res))\n",
    "\n",
    "print(dec2INT32InHex((res >> 25)))"
   ],
   "metadata": {
    "collapsed": false,
    "pycharm": {
     "name": "#%%\n"
    }
   }
  },
  {
   "cell_type": "code",
   "execution_count": 35,
   "outputs": [
    {
     "name": "stdout",
     "output_type": "stream",
     "text": [
      "11 04 00 0b 00 00 00 01 00 1e 26 11 05 05 15 00 00 00 00 09 00 08 00 00 00 00 01 14 1e 00 17 04 "
     ]
    }
   ],
   "source": [
    "r = re.findall(r'.{2}', '1104000b00000001001e2611050515000000000900080000000001141e001704')\n",
    "for i in r:\n",
    "    print(i, end=\" \")"
   ],
   "metadata": {
    "collapsed": false,
    "pycharm": {
     "name": "#%%\n"
    }
   }
  },
  {
   "cell_type": "code",
   "execution_count": 3,
   "outputs": [
    {
     "name": "stdout",
     "output_type": "stream",
     "text": [
      "1530651995 -3\n"
     ]
    }
   ],
   "source": [
    "x = 0.046231940388679504\n",
    "a = 0.010589840821921825\n",
    "w = 1.0 / 49.0\n",
    "\n",
    "m = x * w / a\n",
    "\n",
    "from utils import *\n",
    "t = InterFrExp(m)\n",
    "print(t[0], t[1])"
   ],
   "metadata": {
    "collapsed": false,
    "pycharm": {
     "name": "#%%\n"
    }
   }
  },
  {
   "cell_type": "code",
   "execution_count": 9,
   "outputs": [
    {
     "name": "stdout",
     "output_type": "stream",
     "text": [
      "834672\n"
     ]
    }
   ],
   "source": [
    "t = \\\n",
    "280+\\\n",
    "32 * 9 / 4 + 32 + 32 +\\\n",
    "640+\\\n",
    "64 * 9 / 4 + 64 + 64 +\\\n",
    "64 * 128 / 4 + 128 + 128+\\\n",
    "128 * 9 / 4 + 128 + 128 +\\\n",
    "128 * 128 / 4 + 128 + 128 +\\\n",
    "128 * 9 / 4 + 128 + 128+\\\n",
    "128 * 256 / 4 + 256 + 256 +\\\n",
    "256 * 9 / 4 + 256 + 256 +\\\n",
    "256 * 256 / 4 + 256 + 256 +\\\n",
    "256 * 9 / 4 + 256 + 256 +\\\n",
    "256 * 512 / 4 + 512 + 512 +\\\n",
    "512 * 9 / 4 + 512 + 512 +\\\n",
    "512 * 512 / 4 + 512 + 512 +\\\n",
    "512 * 9 / 4 + 512 + 512 +\\\n",
    "512 * 512 / 4 + 512 + 512 +\\\n",
    "512 * 9 / 4 + 512 + 512 +\\\n",
    "512 * 512 / 4 + 512 + 512 +\\\n",
    "512 * 9 / 4 + 512 + 512 +\\\n",
    "512 * 512 / 4 + 512 + 512 +\\\n",
    "512 * 9 / 4 + 512 + 512+\\\n",
    "512 * 512 / 4 + 512 + 512 +\\\n",
    "512 * 9 / 4 + 512 + 512 +\\\n",
    "512 * 1024 / 4 + 1024 + 1024 +\\\n",
    "1024 * 9 / 4 + 1024 + 1024+\\\n",
    "1024 * 1024 / 4 + 1024 + 1024 +\\\n",
    "64 * 1024 / 4 + 64 + 64\n",
    "\n",
    "\n",
    "print(int(t))"
   ],
   "metadata": {
    "collapsed": false,
    "pycharm": {
     "name": "#%%\n"
    }
   }
  },
  {
   "cell_type": "code",
   "execution_count": null,
   "outputs": [],
   "source": [
    "for i in range(0, 26, 2):\n",
    "    print('__init_array(%s, dw_conv_%d_quant, param_addr);' % (t[i], i / 2))\n",
    "    print('param_addr += %s;' % (t[i]))\n",
    "    print('__init_array(%s, pw_conv_%d_quant, param_addr);' % (t[i + 1], i / 2))\n",
    "    print('param_addr += %s;' % (t[i + 1]))"
   ],
   "metadata": {
    "collapsed": false,
    "pycharm": {
     "name": "#%%\n"
    }
   }
  },
  {
   "cell_type": "code",
   "execution_count": 22,
   "outputs": [
    {
     "name": "stdout",
     "output_type": "stream",
     "text": [
      "[('C:\\\\Users\\\\38328\\\\Desktop\\\\pdf\\\\111\\\\', ['save'], ['RGB转YCbCr色彩空间波形图.png', 'top和down.png', 'YCbCr转RGB色彩空间波形图.png', '列驱动仿真波形.png', '列驱动的信号仿真波形图.png', '寄存器配置波形图.png', '对数转换仿真波形图.png', '指数转换放仿真波形图.png', '行扫描驱动仿真结果图.png', '行驱动仿真波形.png', '行驱动仿真波形图.png']), ('C:\\\\Users\\\\38328\\\\Desktop\\\\pdf\\\\111\\\\save', [], [])]\n",
      "11\n"
     ]
    }
   ],
   "source": [
    "import os\n",
    "import cv2\n",
    "import numpy as np\n",
    "from PIL import Image\n",
    "\n",
    "path = \"C:\\\\Users\\\\38328\\\\Desktop\\\\pdf\\\\111\\\\\"\n",
    "save_path = \"C:\\\\Users\\\\38328\\\\Desktop\\\\pdf\\\\111\\\\save\\\\\"\n",
    "\n",
    "d = os.walk(path)\n",
    "\n",
    "l = []\n",
    "\n",
    "for i in d:\n",
    "    l.append(i)\n",
    "print(l)\n",
    "\n",
    "l = l[0][2]\n",
    "\n",
    "print(len(l))\n",
    "i = 0\n",
    "for f in l:\n",
    "    img = Image.open(path + f)\n",
    "    # print(img)\n",
    "    np_image = np.asarray(img)\n",
    "    grayImage = cv2.cvtColor(np_image, cv2.COLOR_RGB2GRAY)\n",
    "    cv2.imwrite(save_path + str(i) + '.jpg', grayImage)\n",
    "    i += 1\n",
    "\n"
   ],
   "metadata": {
    "collapsed": false,
    "pycharm": {
     "name": "#%%\n"
    }
   }
  }
 ],
 "metadata": {
  "kernelspec": {
   "display_name": "Python 3",
   "language": "python",
   "name": "python3"
  },
  "language_info": {
   "codemirror_mode": {
    "name": "ipython",
    "version": 2
   },
   "file_extension": ".py",
   "mimetype": "text/x-python",
   "name": "python",
   "nbconvert_exporter": "python",
   "pygments_lexer": "ipython2",
   "version": "2.7.6"
  }
 },
 "nbformat": 4,
 "nbformat_minor": 0
}